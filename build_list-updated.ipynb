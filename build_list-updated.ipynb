{
 "cells": [
  {
   "cell_type": "markdown",
   "metadata": {},
   "source": [
    "## Build train/test list\n",
    "1. set a ratio for training data (you can change this)\n",
    "2. go to rgb-images folder, save folder names (clip_ref) for training and testing in a list\n",
    "3. save to txt\n",
    "\n",
    "### How to run this\n",
    "1. after running video_preprocessing (you have all frames in folders, labels in folders)\n",
    "2. create a folder called splitfiles under data\n",
    "3. run"
   ]
  },
  {
   "cell_type": "code",
   "execution_count": 80,
   "metadata": {},
   "outputs": [],
   "source": [
    "import os\n",
    "import pdb"
   ]
  },
  {
   "cell_type": "code",
   "execution_count": 81,
   "metadata": {},
   "outputs": [],
   "source": [
    "def removeDS(array):\n",
    "    if '.DS_Store' in array:\n",
    "        array.remove('.DS_Store')\n",
    "    \n",
    "    return array"
   ]
  },
  {
   "cell_type": "code",
   "execution_count": 82,
   "metadata": {},
   "outputs": [],
   "source": [
    "def get_Nclasses(path, N):\n",
    "    '''\n",
    "    This function is used to get the N classes we use for training\n",
    "    '''\n",
    "    labels = os.listdir(path)\n",
    "    labels = removeDS(labels)\n",
    "    \n",
    "    clip_nums = {}\n",
    "    for label in labels:\n",
    "        label_path = path + label + '/'\n",
    "        clips = os.listdir(label_path)\n",
    "        clips = removeDS(clips)\n",
    "        clip_nums[label] = len(clips)\n",
    "        \n",
    "    sortedClasses = sorted(clip_nums.items(), key = lambda item:item[1], reverse = True)\n",
    "    NClasses = sortedClasses[:N]\n",
    "    \n",
    "    #NClasses_names = [c[0] for c in NClasses]\n",
    "    \n",
    "    return dict(NClasses)"
   ]
  },
  {
   "cell_type": "code",
   "execution_count": 83,
   "metadata": {},
   "outputs": [],
   "source": [
    "def build_lists(path, list_root, Actions, test_train_split):\n",
    "    '''\n",
    "    This function is used to build training and testing data list we're gonna use.\n",
    "    The label path (class/class_group_clip/frameidx.txt) will be stored in trainlist.txt\n",
    "    The clip path (class/class_group_clip) will be stored in trainlist01.txt\n",
    "    '''\n",
    "\n",
    "    train_refs_full = []\n",
    "    test_refs_full = []\n",
    "    \n",
    "    train_frames_full = []\n",
    "    test_frames_full = []\n",
    "    \n",
    "    for label in Actions:\n",
    "        label_path = path + label + '/'\n",
    "        clips = os.listdir(label_path)\n",
    "        clips = removeDS(clips)\n",
    "        num_clips = len(clips)\n",
    "        \n",
    "        train_num = int(num_clips*test_train_split)\n",
    "        \n",
    "        training_clip_names = clips[0:train_num]\n",
    "        train_paths = [label + '/' + s for s in training_clip_names ]\n",
    "        \n",
    "        test_clip_names = clips[train_num::]      \n",
    "        test_paths = [label + '/' + s for s in test_clip_names]\n",
    "        \n",
    "        for i, clip_name in enumerate(training_clip_names):\n",
    "            clip_path = label_path + clip_name + '/'\n",
    "            frames = os.listdir(clip_path)\n",
    "            frames = removeDS(frames)\n",
    "                    \n",
    "            for frame in frames:\n",
    "                frame_path = train_paths[i] + '/' + frame\n",
    "                train_frames_full.append(frame_path)\n",
    "                \n",
    "        for i, clip_name in enumerate(test_clip_names):\n",
    "            clip_path = label_path + clip_name + '/'\n",
    "            frames = os.listdir(clip_path)\n",
    "            frames = removeDS(frames)\n",
    "                    \n",
    "            for frame in frames:\n",
    "                frame_path = test_paths[i] + '/' + frame\n",
    "                test_frames_full.append(frame_path)\n",
    "            \n",
    "        train_refs_full += train_paths\n",
    "        test_refs_full += test_paths\n",
    "        \n",
    "\n",
    "    delimiter = '\\n'\n",
    "    train_frame_str = delimiter.join(train_frames_full)#contains training\n",
    "    test_frame_str = delimiter.join(test_frames_full)\n",
    "    train_clip_str = delimiter.join(train_refs_full)\n",
    "    test_clip_str = delimiter.join(test_refs_full)\n",
    "        \n",
    "    train_frame_path = list_root + 'trainlist.txt'\n",
    "    test_frame_path = list_root + 'testlist.txt'\n",
    "    train_clip_path = list_root + 'trainlist01.txt'\n",
    "    test_clip_path = list_root + 'testlist01.txt'\n",
    "        \n",
    "    file = open(train_frame_path,'w+') \n",
    "    file.write(train_frame_str)\n",
    "    file.close()\n",
    "    file = open(test_frame_path,'w+')\n",
    "    file.write(test_frame_str)\n",
    "    file.close()\n",
    "    \n",
    "    file = open(train_clip_path,'w+') \n",
    "    file.write(train_clip_str)\n",
    "    file.close()\n",
    "    file = open(test_clip_path,'w+')\n",
    "    file.write(test_clip_str)\n",
    "    file.close()\n",
    "        "
   ]
  },
  {
   "cell_type": "code",
   "execution_count": 85,
   "metadata": {},
   "outputs": [],
   "source": [
    "path = 'ucf24/labels/'\n",
    "list_root = 'ucf24/splitfiles/'\n",
    "N = 24\n",
    "test_train_split = 0.7\n",
    "Actions = get_Nclasses(path, N)\n",
    "build_lists(path, list_root, Actions, test_train_split)"
   ]
  },
  {
   "cell_type": "code",
   "execution_count": 79,
   "metadata": {},
   "outputs": [],
   "source": []
  },
  {
   "cell_type": "markdown",
   "metadata": {},
   "source": [
    "### datasetName.names file\n",
    "These files for different dataset is stored in 'YOWO/data/', they contains all the classes names used for trainning for different datasets."
   ]
  },
  {
   "cell_type": "code",
   "execution_count": 55,
   "metadata": {},
   "outputs": [],
   "source": [
    "def build_class_names(NClasses_names, path, fileName):\n",
    "    delimiter = '\\n'\n",
    "    names_str = delimiter.join(NClasses_names)\n",
    "    names_path = path + fileName\n",
    "    file = open(names_path,'w+') \n",
    "    file.write(names_str)\n",
    "    file.close()\n",
    "\n",
    "'''\n",
    "path: folder path to save datasetNames.names files\n",
    "class_names: returned by build_labelref_list function, contains class names list\n",
    "'''\n",
    "\n",
    "path = '../YOWO/data/'\n",
    "fileName = 'restaurant.names'\n",
    "build_class_names(NClasses_names, path, fileName)"
   ]
  },
  {
   "cell_type": "code",
   "execution_count": null,
   "metadata": {},
   "outputs": [],
   "source": []
  }
 ],
 "metadata": {
  "kernelspec": {
   "display_name": "Python 3",
   "language": "python",
   "name": "python3"
  },
  "language_info": {
   "codemirror_mode": {
    "name": "ipython",
    "version": 3
   },
   "file_extension": ".py",
   "mimetype": "text/x-python",
   "name": "python",
   "nbconvert_exporter": "python",
   "pygments_lexer": "ipython3",
   "version": "3.6.5"
  }
 },
 "nbformat": 4,
 "nbformat_minor": 2
}
